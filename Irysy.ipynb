{
 "cells": [
  {
   "cell_type": "markdown",
   "metadata": {},
   "source": [
    "# Eksploracyjna Analiza Danych (EDA) dotycząca Irysów"
   ]
  },
  {
   "cell_type": "markdown",
   "metadata": {},
   "source": [
    "# 1. Wprowadzenie\n",
    "\n",
    "Zbiór danych Iris (Irysy) to jeden z najbardziej znanych i klasycznych zbiorów wykorzystywanych w uczeniu maszynowym i statystyce. Zawiera on pomiary czterech cech morfologicznych trzech gatunków irysów: Iris-setosa, Iris-versicolor oraz Iris-virginica. Każdy rekord opisuje pojedynczy kwiat.\n",
    "\n",
    "Celem tej analizy jest eksploracja danych (EDA), identyfikacja zależności między cechami, wykrycie potencjalnych wartości odstających oraz przygotowanie danych do dalszych etapów analizy, takich jak modelowanie czy klasyfikacja.\n"
   ]
  },
  {
   "cell_type": "markdown",
   "metadata": {},
   "source": [
    "# Spis treści\n",
    "1. Wprowadzenie\n",
    "2. Źródło i wersja danych\n",
    "2.1 Ustawienie ziarna losowości\n",
    "3. Ilustracje badanych gatunków irysów\n",
    "4. Zrozumienie danych\n",
    "5. Brakujące wartości i duplikaty\n",
    "6. Analiza pojedynczych zmiennych\n",
    "7. Transformacja danych\n",
    "8. Analiza relacji między zmiennymi\n",
    "9. Analiza wartości odstających\n",
    "10. Prosty model klasyfikacyjny\n",
    "11. Podsumowanie końcowe"
   ]
  },
  {
   "cell_type": "markdown",
   "metadata": {},
   "source": [
    "# 2. Źródło i wersja danych\n",
    "Zbiór danych: [UCI Machine Learning Repository - Iris Data Set](https://archive.ics.uci.edu/ml/datasets/iris)\n",
    "Wersja: oryginalna, pobrana w czerwcu 2025 r."
   ]
  },
  {
   "cell_type": "markdown",
   "metadata": {},
   "source": [
    "# 2.1 Ustawienie ziarna losowości\n",
    "Aby zapewnić powtarzalność wyników, ustawiamy ziarno losowości dla NumPy i Pythona."
   ]
  },
  {
   "cell_type": "markdown",
   "metadata": {},
   "source": [
    "# 3. Ilustracje badanych gatunków irysów\n",
    "\n",
    "Poniżej przedstawiono przykładowe zdjęcia trzech gatunków irysów analizowanych w zbiorze danych:\n",
    "\n",
    "![Iris-setosa](https://en.wikipedia.org/wiki/Iris_setosa#/media/File:Irissetosa1.jpg)\n",
    "*Iris-setosa*\n",
    "\n",
    "![Iris-versicolor](https://en.wikipedia.org/wiki/Iris_versicolor#/media/File:Blue_Flag,_Ottawa.jpg)\n",
    "*Iris-versicolor*\n",
    "\n",
    "![Iris-virginica](https://en.wikipedia.org/wiki/Iris_virginica#/media/File:Iris_virginica_2.jpg)\n",
    "*Iris-virginica*\n",
    "\n",
    "Każdy z tych gatunków posiada charakterystyczne cechy morfologiczne, które są analizowane w dalszej części notebooka."
   ]
  },
  {
   "cell_type": "code",
   "execution_count": 1,
   "metadata": {},
   "outputs": [],
   "source": [
    "import pandas as pd"
   ]
  },
  {
   "cell_type": "code",
   "execution_count": 2,
   "metadata": {},
   "outputs": [],
   "source": [
    "import seaborn as sns\n",
    "sns.set_theme(style=\"whitegrid\", palette=\"Set2\")"
   ]
  },
  {
   "cell_type": "code",
   "execution_count": 3,
   "metadata": {},
   "outputs": [],
   "source": [
    "import numpy as np\n",
    "import random\n",
    "np.random.seed(42)\n",
    "random.seed(42)"
   ]
  },
  {
   "cell_type": "code",
   "execution_count": 4,
   "metadata": {},
   "outputs": [
    {
     "data": {
      "text/html": [
       "<div>\n",
       "<style scoped>\n",
       "    .dataframe tbody tr th:only-of-type {\n",
       "        vertical-align: middle;\n",
       "    }\n",
       "\n",
       "    .dataframe tbody tr th {\n",
       "        vertical-align: top;\n",
       "    }\n",
       "\n",
       "    .dataframe thead th {\n",
       "        text-align: right;\n",
       "    }\n",
       "</style>\n",
       "<table border=\"1\" class=\"dataframe\">\n",
       "  <thead>\n",
       "    <tr style=\"text-align: right;\">\n",
       "      <th></th>\n",
       "      <th>długość kielicha (sepal length)</th>\n",
       "      <th>szerokość kielicha (sepal width)</th>\n",
       "      <th>długość płatka (petal length)</th>\n",
       "      <th>szerokość płatka (petal width)</th>\n",
       "      <th>klasa (class)</th>\n",
       "    </tr>\n",
       "  </thead>\n",
       "  <tbody>\n",
       "    <tr>\n",
       "      <th>0</th>\n",
       "      <td>5.1</td>\n",
       "      <td>3.5</td>\n",
       "      <td>1.4</td>\n",
       "      <td>0.2</td>\n",
       "      <td>Iris-setosa</td>\n",
       "    </tr>\n",
       "    <tr>\n",
       "      <th>1</th>\n",
       "      <td>4.9</td>\n",
       "      <td>3.0</td>\n",
       "      <td>1.4</td>\n",
       "      <td>0.2</td>\n",
       "      <td>Iris-setosa</td>\n",
       "    </tr>\n",
       "    <tr>\n",
       "      <th>2</th>\n",
       "      <td>4.7</td>\n",
       "      <td>3.2</td>\n",
       "      <td>1.3</td>\n",
       "      <td>0.2</td>\n",
       "      <td>Iris-setosa</td>\n",
       "    </tr>\n",
       "    <tr>\n",
       "      <th>3</th>\n",
       "      <td>4.6</td>\n",
       "      <td>3.1</td>\n",
       "      <td>1.5</td>\n",
       "      <td>0.2</td>\n",
       "      <td>Iris-setosa</td>\n",
       "    </tr>\n",
       "    <tr>\n",
       "      <th>4</th>\n",
       "      <td>5.0</td>\n",
       "      <td>3.6</td>\n",
       "      <td>1.4</td>\n",
       "      <td>0.2</td>\n",
       "      <td>Iris-setosa</td>\n",
       "    </tr>\n",
       "    <tr>\n",
       "      <th>...</th>\n",
       "      <td>...</td>\n",
       "      <td>...</td>\n",
       "      <td>...</td>\n",
       "      <td>...</td>\n",
       "      <td>...</td>\n",
       "    </tr>\n",
       "    <tr>\n",
       "      <th>145</th>\n",
       "      <td>6.7</td>\n",
       "      <td>3.0</td>\n",
       "      <td>5.2</td>\n",
       "      <td>2.3</td>\n",
       "      <td>Iris-virginica</td>\n",
       "    </tr>\n",
       "    <tr>\n",
       "      <th>146</th>\n",
       "      <td>6.3</td>\n",
       "      <td>2.5</td>\n",
       "      <td>5.0</td>\n",
       "      <td>1.9</td>\n",
       "      <td>Iris-virginica</td>\n",
       "    </tr>\n",
       "    <tr>\n",
       "      <th>147</th>\n",
       "      <td>6.5</td>\n",
       "      <td>3.0</td>\n",
       "      <td>5.2</td>\n",
       "      <td>2.0</td>\n",
       "      <td>Iris-virginica</td>\n",
       "    </tr>\n",
       "    <tr>\n",
       "      <th>148</th>\n",
       "      <td>6.2</td>\n",
       "      <td>3.4</td>\n",
       "      <td>5.4</td>\n",
       "      <td>2.3</td>\n",
       "      <td>Iris-virginica</td>\n",
       "    </tr>\n",
       "    <tr>\n",
       "      <th>149</th>\n",
       "      <td>5.9</td>\n",
       "      <td>3.0</td>\n",
       "      <td>5.1</td>\n",
       "      <td>1.8</td>\n",
       "      <td>Iris-virginica</td>\n",
       "    </tr>\n",
       "  </tbody>\n",
       "</table>\n",
       "<p>150 rows × 5 columns</p>\n",
       "</div>"
      ],
      "text/plain": [
       "     długość kielicha (sepal length)  szerokość kielicha (sepal width)  \\\n",
       "0                                5.1                               3.5   \n",
       "1                                4.9                               3.0   \n",
       "2                                4.7                               3.2   \n",
       "3                                4.6                               3.1   \n",
       "4                                5.0                               3.6   \n",
       "..                               ...                               ...   \n",
       "145                              6.7                               3.0   \n",
       "146                              6.3                               2.5   \n",
       "147                              6.5                               3.0   \n",
       "148                              6.2                               3.4   \n",
       "149                              5.9                               3.0   \n",
       "\n",
       "     długość płatka (petal length)  szerokość płatka (petal width)  \\\n",
       "0                              1.4                             0.2   \n",
       "1                              1.4                             0.2   \n",
       "2                              1.3                             0.2   \n",
       "3                              1.5                             0.2   \n",
       "4                              1.4                             0.2   \n",
       "..                             ...                             ...   \n",
       "145                            5.2                             2.3   \n",
       "146                            5.0                             1.9   \n",
       "147                            5.2                             2.0   \n",
       "148                            5.4                             2.3   \n",
       "149                            5.1                             1.8   \n",
       "\n",
       "      klasa (class)  \n",
       "0       Iris-setosa  \n",
       "1       Iris-setosa  \n",
       "2       Iris-setosa  \n",
       "3       Iris-setosa  \n",
       "4       Iris-setosa  \n",
       "..              ...  \n",
       "145  Iris-virginica  \n",
       "146  Iris-virginica  \n",
       "147  Iris-virginica  \n",
       "148  Iris-virginica  \n",
       "149  Iris-virginica  \n",
       "\n",
       "[150 rows x 5 columns]"
      ]
     },
     "execution_count": 4,
     "metadata": {},
     "output_type": "execute_result"
    }
   ],
   "source": [
    "df = pd.read_csv('iris.csv', sep=\",\")\n",
    "df"
   ]
  },
  {
   "cell_type": "code",
   "execution_count": 5,
   "metadata": {},
   "outputs": [
    {
     "name": "stdout",
     "output_type": "stream",
     "text": [
      "Test Shapiro-Wilka dla długość kielicha (sepal length): stat=0.976, p-value=0.0102\n",
      "  Rozkład odbiega od normalnego.\n",
      "Test Shapiro-Wilka dla szerokość kielicha (sepal width): stat=0.984, p-value=0.0752\n",
      "  Brak podstaw do odrzucenia normalności.\n",
      "Test Shapiro-Wilka dla długość płatka (petal length): stat=0.876, p-value=0.0000\n",
      "  Rozkład odbiega od normalnego.\n",
      "Test Shapiro-Wilka dla szerokość płatka (petal width): stat=0.903, p-value=0.0000\n",
      "  Rozkład odbiega od normalnego.\n"
     ]
    }
   ],
   "source": [
    "from scipy.stats import shapiro\n",
    "for col in ['długość kielicha (sepal length)', 'szerokość kielicha (sepal width)', 'długość płatka (petal length)', 'szerokość płatka (petal width)']:\n",
    "    stat, p = shapiro(df[col])\n",
    "    print(f\"Test Shapiro-Wilka dla {col}: stat={stat:.3f}, p-value={p:.4f}\")\n",
    "    if p < 0.05:\n",
    "        print(\"  Rozkład odbiega od normalnego.\")\n",
    "    else:\n",
    "        print(\"  Brak podstaw do odrzucenia normalności.\")"
   ]
  },
  {
   "cell_type": "markdown",
   "metadata": {},
   "source": [
    "# 4. Zrozumienie danych"
   ]
  },
  {
   "cell_type": "code",
   "execution_count": 6,
   "metadata": {},
   "outputs": [
    {
     "data": {
      "text/plain": [
       "150"
      ]
     },
     "execution_count": 6,
     "metadata": {},
     "output_type": "execute_result"
    }
   ],
   "source": [
    "df.shape[0] #ilość rekordów w bazie"
   ]
  },
  {
   "cell_type": "code",
   "execution_count": 7,
   "metadata": {},
   "outputs": [
    {
     "data": {
      "text/plain": [
       "RangeIndex(start=0, stop=150, step=1)"
      ]
     },
     "execution_count": 7,
     "metadata": {},
     "output_type": "execute_result"
    }
   ],
   "source": [
    "df.index"
   ]
  },
  {
   "cell_type": "code",
   "execution_count": 8,
   "metadata": {},
   "outputs": [
    {
     "name": "stdout",
     "output_type": "stream",
     "text": [
      "<class 'pandas.core.frame.DataFrame'>\n",
      "RangeIndex: 150 entries, 0 to 149\n",
      "Data columns (total 5 columns):\n",
      " #   Column                            Non-Null Count  Dtype  \n",
      "---  ------                            --------------  -----  \n",
      " 0   długość kielicha (sepal length)   150 non-null    float64\n",
      " 1   szerokość kielicha (sepal width)  150 non-null    float64\n",
      " 2   długość płatka (petal length)     150 non-null    float64\n",
      " 3   szerokość płatka (petal width)    150 non-null    float64\n",
      " 4   klasa (class)                     150 non-null    object \n",
      "dtypes: float64(4), object(1)\n",
      "memory usage: 6.0+ KB\n"
     ]
    }
   ],
   "source": [
    "df.info()"
   ]
  },
  {
   "cell_type": "code",
   "execution_count": 9,
   "metadata": {},
   "outputs": [
    {
     "data": {
      "text/html": [
       "<div>\n",
       "<style scoped>\n",
       "    .dataframe tbody tr th:only-of-type {\n",
       "        vertical-align: middle;\n",
       "    }\n",
       "\n",
       "    .dataframe tbody tr th {\n",
       "        vertical-align: top;\n",
       "    }\n",
       "\n",
       "    .dataframe thead th {\n",
       "        text-align: right;\n",
       "    }\n",
       "</style>\n",
       "<table border=\"1\" class=\"dataframe\">\n",
       "  <thead>\n",
       "    <tr style=\"text-align: right;\">\n",
       "      <th></th>\n",
       "      <th>długość kielicha (sepal length)</th>\n",
       "      <th>szerokość kielicha (sepal width)</th>\n",
       "      <th>długość płatka (petal length)</th>\n",
       "      <th>szerokość płatka (petal width)</th>\n",
       "    </tr>\n",
       "  </thead>\n",
       "  <tbody>\n",
       "    <tr>\n",
       "      <th>count</th>\n",
       "      <td>150.000000</td>\n",
       "      <td>150.000000</td>\n",
       "      <td>150.000000</td>\n",
       "      <td>150.000000</td>\n",
       "    </tr>\n",
       "    <tr>\n",
       "      <th>mean</th>\n",
       "      <td>5.843333</td>\n",
       "      <td>3.054000</td>\n",
       "      <td>3.758667</td>\n",
       "      <td>1.198667</td>\n",
       "    </tr>\n",
       "    <tr>\n",
       "      <th>std</th>\n",
       "      <td>0.828066</td>\n",
       "      <td>0.433594</td>\n",
       "      <td>1.764420</td>\n",
       "      <td>0.763161</td>\n",
       "    </tr>\n",
       "    <tr>\n",
       "      <th>min</th>\n",
       "      <td>4.300000</td>\n",
       "      <td>2.000000</td>\n",
       "      <td>1.000000</td>\n",
       "      <td>0.100000</td>\n",
       "    </tr>\n",
       "    <tr>\n",
       "      <th>25%</th>\n",
       "      <td>5.100000</td>\n",
       "      <td>2.800000</td>\n",
       "      <td>1.600000</td>\n",
       "      <td>0.300000</td>\n",
       "    </tr>\n",
       "    <tr>\n",
       "      <th>50%</th>\n",
       "      <td>5.800000</td>\n",
       "      <td>3.000000</td>\n",
       "      <td>4.350000</td>\n",
       "      <td>1.300000</td>\n",
       "    </tr>\n",
       "    <tr>\n",
       "      <th>75%</th>\n",
       "      <td>6.400000</td>\n",
       "      <td>3.300000</td>\n",
       "      <td>5.100000</td>\n",
       "      <td>1.800000</td>\n",
       "    </tr>\n",
       "    <tr>\n",
       "      <th>max</th>\n",
       "      <td>7.900000</td>\n",
       "      <td>4.400000</td>\n",
       "      <td>6.900000</td>\n",
       "      <td>2.500000</td>\n",
       "    </tr>\n",
       "  </tbody>\n",
       "</table>\n",
       "</div>"
      ],
      "text/plain": [
       "       długość kielicha (sepal length)  szerokość kielicha (sepal width)  \\\n",
       "count                       150.000000                        150.000000   \n",
       "mean                          5.843333                          3.054000   \n",
       "std                           0.828066                          0.433594   \n",
       "min                           4.300000                          2.000000   \n",
       "25%                           5.100000                          2.800000   \n",
       "50%                           5.800000                          3.000000   \n",
       "75%                           6.400000                          3.300000   \n",
       "max                           7.900000                          4.400000   \n",
       "\n",
       "       długość płatka (petal length)  szerokość płatka (petal width)  \n",
       "count                     150.000000                      150.000000  \n",
       "mean                        3.758667                        1.198667  \n",
       "std                         1.764420                        0.763161  \n",
       "min                         1.000000                        0.100000  \n",
       "25%                         1.600000                        0.300000  \n",
       "50%                         4.350000                        1.300000  \n",
       "75%                         5.100000                        1.800000  \n",
       "max                         6.900000                        2.500000  "
      ]
     },
     "execution_count": 9,
     "metadata": {},
     "output_type": "execute_result"
    }
   ],
   "source": [
    "df.describe() # Statystyka"
   ]
  },
  {
   "cell_type": "markdown",
   "metadata": {},
   "source": [
    "### Losowe pórbki danych"
   ]
  },
  {
   "cell_type": "code",
   "execution_count": 10,
   "metadata": {},
   "outputs": [
    {
     "data": {
      "text/html": [
       "<div>\n",
       "<style scoped>\n",
       "    .dataframe tbody tr th:only-of-type {\n",
       "        vertical-align: middle;\n",
       "    }\n",
       "\n",
       "    .dataframe tbody tr th {\n",
       "        vertical-align: top;\n",
       "    }\n",
       "\n",
       "    .dataframe thead th {\n",
       "        text-align: right;\n",
       "    }\n",
       "</style>\n",
       "<table border=\"1\" class=\"dataframe\">\n",
       "  <thead>\n",
       "    <tr style=\"text-align: right;\">\n",
       "      <th></th>\n",
       "      <th>długość kielicha (sepal length)</th>\n",
       "      <th>szerokość kielicha (sepal width)</th>\n",
       "      <th>długość płatka (petal length)</th>\n",
       "      <th>szerokość płatka (petal width)</th>\n",
       "      <th>klasa (class)</th>\n",
       "    </tr>\n",
       "  </thead>\n",
       "  <tbody>\n",
       "    <tr>\n",
       "      <th>73</th>\n",
       "      <td>6.1</td>\n",
       "      <td>2.8</td>\n",
       "      <td>4.7</td>\n",
       "      <td>1.2</td>\n",
       "      <td>Iris-versicolor</td>\n",
       "    </tr>\n",
       "    <tr>\n",
       "      <th>18</th>\n",
       "      <td>5.7</td>\n",
       "      <td>3.8</td>\n",
       "      <td>1.7</td>\n",
       "      <td>0.3</td>\n",
       "      <td>Iris-setosa</td>\n",
       "    </tr>\n",
       "    <tr>\n",
       "      <th>118</th>\n",
       "      <td>7.7</td>\n",
       "      <td>2.6</td>\n",
       "      <td>6.9</td>\n",
       "      <td>2.3</td>\n",
       "      <td>Iris-virginica</td>\n",
       "    </tr>\n",
       "    <tr>\n",
       "      <th>78</th>\n",
       "      <td>6.0</td>\n",
       "      <td>2.9</td>\n",
       "      <td>4.5</td>\n",
       "      <td>1.5</td>\n",
       "      <td>Iris-versicolor</td>\n",
       "    </tr>\n",
       "    <tr>\n",
       "      <th>76</th>\n",
       "      <td>6.8</td>\n",
       "      <td>2.8</td>\n",
       "      <td>4.8</td>\n",
       "      <td>1.4</td>\n",
       "      <td>Iris-versicolor</td>\n",
       "    </tr>\n",
       "    <tr>\n",
       "      <th>31</th>\n",
       "      <td>5.4</td>\n",
       "      <td>3.4</td>\n",
       "      <td>1.5</td>\n",
       "      <td>0.4</td>\n",
       "      <td>Iris-setosa</td>\n",
       "    </tr>\n",
       "    <tr>\n",
       "      <th>64</th>\n",
       "      <td>5.6</td>\n",
       "      <td>2.9</td>\n",
       "      <td>3.6</td>\n",
       "      <td>1.3</td>\n",
       "      <td>Iris-versicolor</td>\n",
       "    </tr>\n",
       "    <tr>\n",
       "      <th>141</th>\n",
       "      <td>6.9</td>\n",
       "      <td>3.1</td>\n",
       "      <td>5.1</td>\n",
       "      <td>2.3</td>\n",
       "      <td>Iris-virginica</td>\n",
       "    </tr>\n",
       "    <tr>\n",
       "      <th>68</th>\n",
       "      <td>6.2</td>\n",
       "      <td>2.2</td>\n",
       "      <td>4.5</td>\n",
       "      <td>1.5</td>\n",
       "      <td>Iris-versicolor</td>\n",
       "    </tr>\n",
       "    <tr>\n",
       "      <th>82</th>\n",
       "      <td>5.8</td>\n",
       "      <td>2.7</td>\n",
       "      <td>3.9</td>\n",
       "      <td>1.2</td>\n",
       "      <td>Iris-versicolor</td>\n",
       "    </tr>\n",
       "    <tr>\n",
       "      <th>110</th>\n",
       "      <td>6.5</td>\n",
       "      <td>3.2</td>\n",
       "      <td>5.1</td>\n",
       "      <td>2.0</td>\n",
       "      <td>Iris-virginica</td>\n",
       "    </tr>\n",
       "    <tr>\n",
       "      <th>12</th>\n",
       "      <td>4.8</td>\n",
       "      <td>3.0</td>\n",
       "      <td>1.4</td>\n",
       "      <td>0.1</td>\n",
       "      <td>Iris-setosa</td>\n",
       "    </tr>\n",
       "    <tr>\n",
       "      <th>36</th>\n",
       "      <td>5.5</td>\n",
       "      <td>3.5</td>\n",
       "      <td>1.3</td>\n",
       "      <td>0.2</td>\n",
       "      <td>Iris-setosa</td>\n",
       "    </tr>\n",
       "    <tr>\n",
       "      <th>9</th>\n",
       "      <td>4.9</td>\n",
       "      <td>3.1</td>\n",
       "      <td>1.5</td>\n",
       "      <td>0.1</td>\n",
       "      <td>Iris-setosa</td>\n",
       "    </tr>\n",
       "    <tr>\n",
       "      <th>19</th>\n",
       "      <td>5.1</td>\n",
       "      <td>3.8</td>\n",
       "      <td>1.5</td>\n",
       "      <td>0.3</td>\n",
       "      <td>Iris-setosa</td>\n",
       "    </tr>\n",
       "  </tbody>\n",
       "</table>\n",
       "</div>"
      ],
      "text/plain": [
       "     długość kielicha (sepal length)  szerokość kielicha (sepal width)  \\\n",
       "73                               6.1                               2.8   \n",
       "18                               5.7                               3.8   \n",
       "118                              7.7                               2.6   \n",
       "78                               6.0                               2.9   \n",
       "76                               6.8                               2.8   \n",
       "31                               5.4                               3.4   \n",
       "64                               5.6                               2.9   \n",
       "141                              6.9                               3.1   \n",
       "68                               6.2                               2.2   \n",
       "82                               5.8                               2.7   \n",
       "110                              6.5                               3.2   \n",
       "12                               4.8                               3.0   \n",
       "36                               5.5                               3.5   \n",
       "9                                4.9                               3.1   \n",
       "19                               5.1                               3.8   \n",
       "\n",
       "     długość płatka (petal length)  szerokość płatka (petal width)  \\\n",
       "73                             4.7                             1.2   \n",
       "18                             1.7                             0.3   \n",
       "118                            6.9                             2.3   \n",
       "78                             4.5                             1.5   \n",
       "76                             4.8                             1.4   \n",
       "31                             1.5                             0.4   \n",
       "64                             3.6                             1.3   \n",
       "141                            5.1                             2.3   \n",
       "68                             4.5                             1.5   \n",
       "82                             3.9                             1.2   \n",
       "110                            5.1                             2.0   \n",
       "12                             1.4                             0.1   \n",
       "36                             1.3                             0.2   \n",
       "9                              1.5                             0.1   \n",
       "19                             1.5                             0.3   \n",
       "\n",
       "       klasa (class)  \n",
       "73   Iris-versicolor  \n",
       "18       Iris-setosa  \n",
       "118   Iris-virginica  \n",
       "78   Iris-versicolor  \n",
       "76   Iris-versicolor  \n",
       "31       Iris-setosa  \n",
       "64   Iris-versicolor  \n",
       "141   Iris-virginica  \n",
       "68   Iris-versicolor  \n",
       "82   Iris-versicolor  \n",
       "110   Iris-virginica  \n",
       "12       Iris-setosa  \n",
       "36       Iris-setosa  \n",
       "9        Iris-setosa  \n",
       "19       Iris-setosa  "
      ]
     },
     "execution_count": 10,
     "metadata": {},
     "output_type": "execute_result"
    }
   ],
   "source": [
    "df.sample(15) # wyświetlenie 15 losowych wierszy"
   ]
  },
  {
   "cell_type": "code",
   "execution_count": 11,
   "metadata": {},
   "outputs": [
    {
     "data": {
      "text/plain": [
       "długość kielicha (sepal length)     35\n",
       "szerokość kielicha (sepal width)    23\n",
       "długość płatka (petal length)       43\n",
       "szerokość płatka (petal width)      22\n",
       "klasa (class)                        3\n",
       "dtype: int64"
      ]
     },
     "execution_count": 11,
     "metadata": {},
     "output_type": "execute_result"
    }
   ],
   "source": [
    "df.nunique() # Wartosci unikatowe"
   ]
  },
  {
   "cell_type": "markdown",
   "metadata": {},
   "source": [
    "### Podstawowe statystki opisowe"
   ]
  },
  {
   "cell_type": "code",
   "execution_count": 12,
   "metadata": {},
   "outputs": [
    {
     "data": {
      "text/plain": [
       "Index(['długość kielicha (sepal length)', 'szerokość kielicha (sepal width)',\n",
       "       'długość płatka (petal length)', 'szerokość płatka (petal width)',\n",
       "       'klasa (class)'],\n",
       "      dtype='object')"
      ]
     },
     "execution_count": 12,
     "metadata": {},
     "output_type": "execute_result"
    }
   ],
   "source": [
    "df.columns # wyswietlenie nazw kolumn"
   ]
  },
  {
   "cell_type": "markdown",
   "metadata": {},
   "source": [
    "### W bazie mamy 150 rekorów i 5 kolumn"
   ]
  },
  {
   "cell_type": "markdown",
   "metadata": {},
   "source": [
    "# 5. Brakujące wartości w danych"
   ]
  },
  {
   "cell_type": "code",
   "execution_count": 13,
   "metadata": {},
   "outputs": [
    {
     "data": {
      "text/html": [
       "<div>\n",
       "<style scoped>\n",
       "    .dataframe tbody tr th:only-of-type {\n",
       "        vertical-align: middle;\n",
       "    }\n",
       "\n",
       "    .dataframe tbody tr th {\n",
       "        vertical-align: top;\n",
       "    }\n",
       "\n",
       "    .dataframe thead th {\n",
       "        text-align: right;\n",
       "    }\n",
       "</style>\n",
       "<table border=\"1\" class=\"dataframe\">\n",
       "  <thead>\n",
       "    <tr style=\"text-align: right;\">\n",
       "      <th></th>\n",
       "      <th>długość kielicha (sepal length)</th>\n",
       "      <th>szerokość kielicha (sepal width)</th>\n",
       "      <th>długość płatka (petal length)</th>\n",
       "      <th>szerokość płatka (petal width)</th>\n",
       "      <th>klasa (class)</th>\n",
       "    </tr>\n",
       "  </thead>\n",
       "  <tbody>\n",
       "    <tr>\n",
       "      <th>0</th>\n",
       "      <td>False</td>\n",
       "      <td>False</td>\n",
       "      <td>False</td>\n",
       "      <td>False</td>\n",
       "      <td>False</td>\n",
       "    </tr>\n",
       "    <tr>\n",
       "      <th>1</th>\n",
       "      <td>False</td>\n",
       "      <td>False</td>\n",
       "      <td>False</td>\n",
       "      <td>False</td>\n",
       "      <td>False</td>\n",
       "    </tr>\n",
       "    <tr>\n",
       "      <th>2</th>\n",
       "      <td>False</td>\n",
       "      <td>False</td>\n",
       "      <td>False</td>\n",
       "      <td>False</td>\n",
       "      <td>False</td>\n",
       "    </tr>\n",
       "    <tr>\n",
       "      <th>3</th>\n",
       "      <td>False</td>\n",
       "      <td>False</td>\n",
       "      <td>False</td>\n",
       "      <td>False</td>\n",
       "      <td>False</td>\n",
       "    </tr>\n",
       "    <tr>\n",
       "      <th>4</th>\n",
       "      <td>False</td>\n",
       "      <td>False</td>\n",
       "      <td>False</td>\n",
       "      <td>False</td>\n",
       "      <td>False</td>\n",
       "    </tr>\n",
       "    <tr>\n",
       "      <th>...</th>\n",
       "      <td>...</td>\n",
       "      <td>...</td>\n",
       "      <td>...</td>\n",
       "      <td>...</td>\n",
       "      <td>...</td>\n",
       "    </tr>\n",
       "    <tr>\n",
       "      <th>145</th>\n",
       "      <td>False</td>\n",
       "      <td>False</td>\n",
       "      <td>False</td>\n",
       "      <td>False</td>\n",
       "      <td>False</td>\n",
       "    </tr>\n",
       "    <tr>\n",
       "      <th>146</th>\n",
       "      <td>False</td>\n",
       "      <td>False</td>\n",
       "      <td>False</td>\n",
       "      <td>False</td>\n",
       "      <td>False</td>\n",
       "    </tr>\n",
       "    <tr>\n",
       "      <th>147</th>\n",
       "      <td>False</td>\n",
       "      <td>False</td>\n",
       "      <td>False</td>\n",
       "      <td>False</td>\n",
       "      <td>False</td>\n",
       "    </tr>\n",
       "    <tr>\n",
       "      <th>148</th>\n",
       "      <td>False</td>\n",
       "      <td>False</td>\n",
       "      <td>False</td>\n",
       "      <td>False</td>\n",
       "      <td>False</td>\n",
       "    </tr>\n",
       "    <tr>\n",
       "      <th>149</th>\n",
       "      <td>False</td>\n",
       "      <td>False</td>\n",
       "      <td>False</td>\n",
       "      <td>False</td>\n",
       "      <td>False</td>\n",
       "    </tr>\n",
       "  </tbody>\n",
       "</table>\n",
       "<p>150 rows × 5 columns</p>\n",
       "</div>"
      ],
      "text/plain": [
       "     długość kielicha (sepal length)  szerokość kielicha (sepal width)  \\\n",
       "0                              False                             False   \n",
       "1                              False                             False   \n",
       "2                              False                             False   \n",
       "3                              False                             False   \n",
       "4                              False                             False   \n",
       "..                               ...                               ...   \n",
       "145                            False                             False   \n",
       "146                            False                             False   \n",
       "147                            False                             False   \n",
       "148                            False                             False   \n",
       "149                            False                             False   \n",
       "\n",
       "     długość płatka (petal length)  szerokość płatka (petal width)  \\\n",
       "0                            False                           False   \n",
       "1                            False                           False   \n",
       "2                            False                           False   \n",
       "3                            False                           False   \n",
       "4                            False                           False   \n",
       "..                             ...                             ...   \n",
       "145                          False                           False   \n",
       "146                          False                           False   \n",
       "147                          False                           False   \n",
       "148                          False                           False   \n",
       "149                          False                           False   \n",
       "\n",
       "     klasa (class)  \n",
       "0            False  \n",
       "1            False  \n",
       "2            False  \n",
       "3            False  \n",
       "4            False  \n",
       "..             ...  \n",
       "145          False  \n",
       "146          False  \n",
       "147          False  \n",
       "148          False  \n",
       "149          False  \n",
       "\n",
       "[150 rows x 5 columns]"
      ]
     },
     "execution_count": 13,
     "metadata": {},
     "output_type": "execute_result"
    }
   ],
   "source": [
    "df.isnull() # Czy wysępują braki w danych? "
   ]
  },
  {
   "cell_type": "code",
   "execution_count": 14,
   "metadata": {},
   "outputs": [
    {
     "data": {
      "text/plain": [
       "długość kielicha (sepal length)     0\n",
       "szerokość kielicha (sepal width)    0\n",
       "długość płatka (petal length)       0\n",
       "szerokość płatka (petal width)      0\n",
       "klasa (class)                       0\n",
       "dtype: int64"
      ]
     },
     "execution_count": 14,
     "metadata": {},
     "output_type": "execute_result"
    }
   ],
   "source": [
    "df.isnull().sum() # Czy wysępują braki w dnaych - podsumowanie w liczbach"
   ]
  },
  {
   "cell_type": "markdown",
   "metadata": {},
   "source": [
    "### Wniosek: Dane w naszej bazie są pełne i nie zawierają braków"
   ]
  },
  {
   "cell_type": "code",
   "execution_count": 15,
   "metadata": {},
   "outputs": [
    {
     "data": {
      "text/plain": [
       "0      False\n",
       "1      False\n",
       "2      False\n",
       "3      False\n",
       "4      False\n",
       "       ...  \n",
       "145    False\n",
       "146    False\n",
       "147    False\n",
       "148    False\n",
       "149    False\n",
       "Length: 150, dtype: bool"
      ]
     },
     "execution_count": 15,
     "metadata": {},
     "output_type": "execute_result"
    }
   ],
   "source": [
    "df.duplicated() # Czy występują duplikaty danych?"
   ]
  },
  {
   "cell_type": "code",
   "execution_count": 16,
   "metadata": {},
   "outputs": [
    {
     "data": {
      "text/plain": [
       "3"
      ]
     },
     "execution_count": 16,
     "metadata": {},
     "output_type": "execute_result"
    }
   ],
   "source": [
    "df.duplicated().sum() # Czy występują duplikaty danych?"
   ]
  },
  {
   "cell_type": "code",
   "execution_count": 17,
   "metadata": {},
   "outputs": [
    {
     "name": "stdout",
     "output_type": "stream",
     "text": [
      "Liczba duplikatów przed usunięciem: 3\n",
      "Liczba rekordów po usunięciu duplikatów: 147\n"
     ]
    },
    {
     "data": {
      "text/plain": [
       "klasa (class)\n",
       "Iris-versicolor    50\n",
       "Iris-virginica     49\n",
       "Iris-setosa        48\n",
       "Name: count, dtype: int64"
      ]
     },
     "execution_count": 17,
     "metadata": {},
     "output_type": "execute_result"
    }
   ],
   "source": [
    "# Automatyczne usuwanie duplikatów\n",
    "print(f'Liczba duplikatów przed usunięciem: {df.duplicated().sum()}')\n",
    "df_nodup = df.drop_duplicates()\n",
    "print(f'Liczba rekordów po usunięciu duplikatów: {df_nodup.shape[0]}')\n",
    "# Sprawdzenie wpływu na rozkład klas\n",
    "df_nodup['klasa (class)'].value_counts()"
   ]
  },
  {
   "cell_type": "code",
   "execution_count": 18,
   "metadata": {},
   "outputs": [
    {
     "data": {
      "text/html": [
       "<div>\n",
       "<style scoped>\n",
       "    .dataframe tbody tr th:only-of-type {\n",
       "        vertical-align: middle;\n",
       "    }\n",
       "\n",
       "    .dataframe tbody tr th {\n",
       "        vertical-align: top;\n",
       "    }\n",
       "\n",
       "    .dataframe thead th {\n",
       "        text-align: right;\n",
       "    }\n",
       "</style>\n",
       "<table border=\"1\" class=\"dataframe\">\n",
       "  <thead>\n",
       "    <tr style=\"text-align: right;\">\n",
       "      <th></th>\n",
       "      <th>długość kielicha (sepal length)</th>\n",
       "      <th>szerokość kielicha (sepal width)</th>\n",
       "      <th>długość płatka (petal length)</th>\n",
       "      <th>szerokość płatka (petal width)</th>\n",
       "      <th>klasa (class)</th>\n",
       "    </tr>\n",
       "  </thead>\n",
       "  <tbody>\n",
       "    <tr>\n",
       "      <th>34</th>\n",
       "      <td>4.9</td>\n",
       "      <td>3.1</td>\n",
       "      <td>1.5</td>\n",
       "      <td>0.1</td>\n",
       "      <td>Iris-setosa</td>\n",
       "    </tr>\n",
       "    <tr>\n",
       "      <th>37</th>\n",
       "      <td>4.9</td>\n",
       "      <td>3.1</td>\n",
       "      <td>1.5</td>\n",
       "      <td>0.1</td>\n",
       "      <td>Iris-setosa</td>\n",
       "    </tr>\n",
       "    <tr>\n",
       "      <th>142</th>\n",
       "      <td>5.8</td>\n",
       "      <td>2.7</td>\n",
       "      <td>5.1</td>\n",
       "      <td>1.9</td>\n",
       "      <td>Iris-virginica</td>\n",
       "    </tr>\n",
       "  </tbody>\n",
       "</table>\n",
       "</div>"
      ],
      "text/plain": [
       "     długość kielicha (sepal length)  szerokość kielicha (sepal width)  \\\n",
       "34                               4.9                               3.1   \n",
       "37                               4.9                               3.1   \n",
       "142                              5.8                               2.7   \n",
       "\n",
       "     długość płatka (petal length)  szerokość płatka (petal width)  \\\n",
       "34                             1.5                             0.1   \n",
       "37                             1.5                             0.1   \n",
       "142                            5.1                             1.9   \n",
       "\n",
       "      klasa (class)  \n",
       "34      Iris-setosa  \n",
       "37      Iris-setosa  \n",
       "142  Iris-virginica  "
      ]
     },
     "execution_count": 18,
     "metadata": {},
     "output_type": "execute_result"
    }
   ],
   "source": [
    "df[df.duplicated()] # Wyświetlenie duplikatów"
   ]
  },
  {
   "cell_type": "markdown",
   "metadata": {},
   "source": [
    "### Ilość duplikatów jest znikoma i nie wypłynie na wyniki analizy"
   ]
  },
  {
   "cell_type": "markdown",
   "metadata": {},
   "source": [
    "**Wnioski cząstkowe:**\n",
    "- Brakujące dane nie występują, a liczba duplikatów jest znikoma.\n",
    "- Dane są bardzo dobrej jakości do dalszej analizy."
   ]
  },
  {
   "cell_type": "markdown",
   "metadata": {},
   "source": [
    "# 6. Analiza pojedynczych zmiennych"
   ]
  },
  {
   "cell_type": "markdown",
   "metadata": {},
   "source": [
    "### Użycie histogramu"
   ]
  },
  {
   "cell_type": "code",
   "execution_count": 19,
   "metadata": {},
   "outputs": [
    {
     "ename": "NameError",
     "evalue": "name 'plt' is not defined",
     "output_type": "error",
     "traceback": [
      "\u001b[31m---------------------------------------------------------------------------\u001b[39m",
      "\u001b[31mNameError\u001b[39m                                 Traceback (most recent call last)",
      "\u001b[36mCell\u001b[39m\u001b[36m \u001b[39m\u001b[32mIn[19]\u001b[39m\u001b[32m, line 1\u001b[39m\n\u001b[32m----> \u001b[39m\u001b[32m1\u001b[39m \u001b[43mplt\u001b[49m.figure(figsize=(\u001b[32m10\u001b[39m,\u001b[32m6\u001b[39m))\n\u001b[32m      2\u001b[39m df.hist(grid=\u001b[38;5;28;01mTrue\u001b[39;00m, edgecolor=\u001b[33m'\u001b[39m\u001b[33mblack\u001b[39m\u001b[33m'\u001b[39m, color=\u001b[33m'\u001b[39m\u001b[33mskyblue\u001b[39m\u001b[33m'\u001b[39m, figsize=(\u001b[32m10\u001b[39m,\u001b[32m6\u001b[39m))\n\u001b[32m      3\u001b[39m plt.suptitle(\u001b[33m'\u001b[39m\u001b[33mHistogramy cech morfologicznych irysów\u001b[39m\u001b[33m'\u001b[39m, fontsize=\u001b[32m18\u001b[39m)\n",
      "\u001b[31mNameError\u001b[39m: name 'plt' is not defined"
     ]
    }
   ],
   "source": [
    "plt.figure(figsize=(10,6))\n",
    "df.hist(grid=True, edgecolor='black', color='skyblue', figsize=(10,6))\n",
    "plt.suptitle('Histogramy cech morfologicznych irysów', fontsize=18)\n",
    "plt.xlabel('Wartość cechy', fontsize=14)\n",
    "plt.ylabel('Liczba wystąpień', fontsize=14)\n",
    "plt.tight_layout()\n",
    "plt.show()"
   ]
  },
  {
   "cell_type": "markdown",
   "metadata": {},
   "source": [
    "### Zobrazowanie długości i szerokości kwiatów za pomocą histogramów"
   ]
  },
  {
   "cell_type": "code",
   "execution_count": null,
   "metadata": {},
   "outputs": [],
   "source": [
    "import seaborn as sns\n",
    "import matplotlib.pyplot as plt\n",
    "\n",
    "# Pairplot dla wszystkich cech z podziałem na gatunek\n",
    "sns.pairplot(df, hue=\"klasa (class)\", diag_kind=\"hist\", palette=\"Set2\", plot_kws={'alpha':0.7, 's':60})\n",
    "plt.suptitle('Pairplot cech irysów z podziałem na gatunek', y=1.02, fontsize=18)\n",
    "plt.show()\n",
    "\n",
    "# Poprawa opisów wykresów histogramów\n",
    "ax = df[['długość kielicha (sepal length)', 'szerokość kielicha (sepal width)', \n",
    "         'długość płatka (petal length)', 'szerokość płatka (petal width)']].hist(\n",
    "    bins=15, figsize=(10,8), color='skyblue', edgecolor='black', grid=True)\n",
    "plt.suptitle('Histogramy cech morfologicznych irysów', fontsize=18)\n",
    "for a in ax.flatten():\n",
    "    a.set_xlabel('Wartość cechy', fontsize=14)\n",
    "    a.set_ylabel('Liczba wystąpień', fontsize=14)\n",
    "plt.tight_layout()\n",
    "plt.show()\n",
    "\n",
    "# Poprawa wykresu kołowego\n",
    "classes = df['klasa (class)'].value_counts()\n",
    "plt.figure(figsize=(7,7))\n",
    "plt.pie(classes, labels=list(classes.index), autopct='%1.1f%%', startangle=90, colors=sns.color_palette('Set2'), textprops={'fontsize': 13})\n",
    "plt.title('Procentowy udział gatunków irysów w zbiorze', fontsize=16)\n",
    "plt.legend(title='Gatunek', loc='best', fontsize=12)\n",
    "plt.tight_layout()\n",
    "plt.show()\n"
   ]
  },
  {
   "cell_type": "code",
   "execution_count": null,
   "metadata": {},
   "outputs": [],
   "source": [
    "# Barplot rozkładu gatunków\n",
    "plt.figure(figsize=(7,5))\n",
    "sns.countplot(x='klasa (class)', data=df.copy(), palette='Set2')\n",
    "plt.title('Liczebność poszczególnych gatunków irysów', fontsize=16)\n",
    "plt.xlabel('Gatunek', fontsize=14)\n",
    "plt.ylabel('Liczba próbek', fontsize=14)\n",
    "plt.grid(axis='y', linestyle='--', alpha=0.7)\n",
    "plt.tight_layout()\n",
    "plt.show()\n",
    "\n",
    "# Pairplot z rozmiarem punktów zależnym od długości płatka\n",
    "df_plot = df.copy()\n",
    "df_plot['petal_size'] = df_plot['długość płatka (petal length)'] * 10\n",
    "\n",
    "g = sns.PairGrid(df_plot, hue=\"klasa (class)\", diag_sharey=False, palette=\"Set2\")\n",
    "g.map_diag(sns.histplot)\n",
    "def scatter_with_size(x, y, **kwargs):\n",
    "    data = kwargs.get('data')\n",
    "    if data is not None and 'petal_size' in data:\n",
    "        sizes = data['petal_size'].to_numpy()\n",
    "        if hasattr(x, 'index') and len(x) == len(sizes):\n",
    "            sizes = sizes\n",
    "        else:\n",
    "            sizes = np.full_like(x, fill_value=np.mean(sizes), dtype=float)\n",
    "    else:\n",
    "        sizes = np.full_like(x, fill_value=30, dtype=float)\n",
    "    plt.scatter(x, y, s=sizes, alpha=0.7, **{k: v for k, v in kwargs.items() if k != 'data'})\n",
    "g.map_offdiag(scatter_with_size)\n",
    "g.add_legend()\n",
    "plt.suptitle('Pairplot cech irysów z rozmiarem punktów ~ długość płatka', y=1.02, fontsize=16)\n",
    "plt.tight_layout()\n",
    "plt.show()"
   ]
  },
  {
   "cell_type": "code",
   "execution_count": null,
   "metadata": {},
   "outputs": [],
   "source": [
    "df[\"klasa (class)\"].value_counts()"
   ]
  },
  {
   "cell_type": "code",
   "execution_count": null,
   "metadata": {},
   "outputs": [],
   "source": [
    "import matplotlib.pyplot as plt\n",
    "\n",
    "# Assuming that `df` is your DataFrame and it contains a column named 'klasa (class)'\n",
    "classes = df['klasa (class)'].value_counts()\n",
    "\n",
    "plt.pie(classes, labels=list(classes.index), autopct='%1.1f%%')\n",
    "plt.title('Rodzaj Irysów')\n",
    "plt.show()"
   ]
  },
  {
   "cell_type": "markdown",
   "metadata": {},
   "source": [
    "### W przeprowadzonej analizie uwzględniono trzy gatunki irysów: Iris-setosa, Iris-versicolor oraz Iris-virginica. Dla każdego z tych gatunków zebrano po 50 zestawów danych, co pozwala na dokładne porównanie ich charakterystycznych cech."
   ]
  },
  {
   "cell_type": "markdown",
   "metadata": {},
   "source": [
    "# 7. Transformacja danych"
   ]
  },
  {
   "cell_type": "code",
   "execution_count": null,
   "metadata": {},
   "outputs": [],
   "source": [
    "df.head(5) # Wyświetlenie 5 górnych wierszy"
   ]
  },
  {
   "cell_type": "markdown",
   "metadata": {},
   "source": [
    "## Zmina opisów / nagłówków kolumn aby były łatwiejsze do analizy"
   ]
  },
  {
   "cell_type": "code",
   "execution_count": null,
   "metadata": {},
   "outputs": [],
   "source": [
    "df2 = df.rename(columns={'długość kielicha (sepal length)': 'dł_kielicha', \n",
    "                         'szerokość kielicha (sepal width)': 'szer_kielicha', \n",
    "                         'długość płatka (petal length)': 'dł_płatka',\n",
    "                         'szerokość płatka (petal width)': 'szer_płatka', \n",
    "                         'klasa (class)': 'gatunek'}) \t"
   ]
  },
  {
   "cell_type": "code",
   "execution_count": null,
   "metadata": {},
   "outputs": [],
   "source": [
    "df2['ratio_petal'] = df2['dł_płatka'] / df2['szer_płatka']\n",
    "df2['ratio_sepal'] = df2['dł_kielicha'] / df2['szer_kielicha']\n",
    "df2[['ratio_petal', 'ratio_sepal']].describe()"
   ]
  },
  {
   "cell_type": "code",
   "execution_count": null,
   "metadata": {},
   "outputs": [],
   "source": [
    "df2.sample(5) # wyślwietlnie przykładowych wierszy w nowo utworzonym df2"
   ]
  },
  {
   "cell_type": "code",
   "execution_count": null,
   "metadata": {},
   "outputs": [],
   "source": []
  },
  {
   "cell_type": "markdown",
   "metadata": {},
   "source": [
    "# 8. Analiza relacji między zmiennymi"
   ]
  },
  {
   "cell_type": "markdown",
   "metadata": {},
   "source": [
    "### Macierz korelacji"
   ]
  },
  {
   "cell_type": "code",
   "execution_count": null,
   "metadata": {},
   "outputs": [],
   "source": [
    "# Poprawne obliczenie korelacji tylko dla kolumn numerycznych\n",
    "df2.select_dtypes(include='number').corr()"
   ]
  },
  {
   "cell_type": "code",
   "execution_count": null,
   "metadata": {},
   "outputs": [],
   "source": [
    "import seaborn as sns\n",
    "import matplotlib.pyplot as plt\n",
    "\n",
    "# Obliczanie korelacji tylko dla kolumn numerycznych\n",
    "correlation_matrix = df2.select_dtypes(include=['number']).corr()\n",
    "\n",
    "# Rysowanie heatmapy korelacji\n",
    "plt.figure(figsize=(10, 8))\n",
    "sns.heatmap(correlation_matrix, annot=True, cmap='coolwarm', fmt=\".2f\", linewidths=0.5)\n",
    "plt.title('Macierz korelacji')\n",
    "plt.show()"
   ]
  },
  {
   "cell_type": "code",
   "execution_count": null,
   "metadata": {},
   "outputs": [],
   "source": [
    "import numpy as np\n",
    "mask = np.triu(np.ones_like(correlation_matrix, dtype=bool))\n",
    "sns.heatmap(correlation_matrix, annot=True, cmap='coolwarm', fmt=\".2f\", linewidths=0.5, mask=mask)\n",
    "plt.title('Macierz korelacji (z maską)')\n",
    "plt.show()"
   ]
  },
  {
   "cell_type": "markdown",
   "metadata": {},
   "source": [
    "### Interpretacja heatmapy korelacji\n",
    "Heatmapa korelacji pokazuje, które cechy są ze sobą najsilniej powiązane. Widzimy, że długość i szerokość płatka są ze sobą bardzo silnie skorelowane, co sugeruje, że te cechy mogą być kluczowe dla rozróżniania gatunków. Szerokość kielicha jest słabo powiązana z innymi cechami, co może oznaczać jej mniejszą przydatność w klasyfikacji."
   ]
  },
  {
   "cell_type": "markdown",
   "metadata": {},
   "source": [
    "## Podsumowanie macierzy korelacji\n",
    "- Długość kielicha jest silnie skorelowana zarówno z długością, jak i szerokością płatka.\n",
    "- Szerokość kielicha wykazuje umiarkowaną, ale negatywną korelację z długością i szerokością płatka.\n",
    "- Najsilniejsza zależność występuje między długością płatka, a szerokością płatka, co oznacza, że te dwa parametry często rosną lub maleją razem.\n"
   ]
  },
  {
   "cell_type": "markdown",
   "metadata": {},
   "source": [
    "**Wnioski cząstkowe:**\n",
    "- Najsilniejsza korelacja występuje między długością i szerokością płatka.\n",
    "- Szerokość kielicha jest słabo powiązana z innymi cechami.\n",
    "- Wartości korelacji sugerują, które cechy mogą być najbardziej przydatne w klasyfikacji."
   ]
  },
  {
   "cell_type": "markdown",
   "metadata": {},
   "source": [
    "### Wykresy punktowe"
   ]
  },
  {
   "cell_type": "code",
   "execution_count": null,
   "metadata": {},
   "outputs": [],
   "source": [
    "df2.plot(kind=\"scatter\", x=\"dł_kielicha\", y=\"dł_płatka\")"
   ]
  },
  {
   "cell_type": "code",
   "execution_count": null,
   "metadata": {},
   "outputs": [],
   "source": []
  },
  {
   "cell_type": "code",
   "execution_count": null,
   "metadata": {},
   "outputs": [],
   "source": [
    "df2.plot(kind=\"scatter\", x=\"dł_kielicha\", y=\"szer_kielicha\")"
   ]
  },
  {
   "cell_type": "code",
   "execution_count": null,
   "metadata": {},
   "outputs": [],
   "source": [
    "df2.plot(kind=\"scatter\", x=\"dł_płatka\", y=\"szer_płatka\")"
   ]
  },
  {
   "cell_type": "code",
   "execution_count": null,
   "metadata": {},
   "outputs": [],
   "source": []
  },
  {
   "cell_type": "code",
   "execution_count": null,
   "metadata": {},
   "outputs": [],
   "source": [
    "# Obliczneie minimalnych, maksymalnych oraz średnich wartości dla poszczególych gatunków \n",
    "df2.groupby (\"gatunek\")[[\"dł_kielicha\", \"szer_kielicha\", \"dł_płatka\", \"szer_płatka\"]].agg([\"min\", \"max\", \"mean\"]) "
   ]
  },
  {
   "cell_type": "markdown",
   "metadata": {},
   "source": [
    "### Dane dotyczące Iris-setosa, Iris-versicolor i Iris-virginica pokazują wyraźne różnice w wymiarach kielicha i płatków. Iris-setosa ma najmniejsze wymiary, podczas gdy Iris-virginica ma największe. Iris-versicolor zajmuje pośrednią pozycję, co może wskazywać na bardziej zróżnicowane strategie rozwojowe. Te różnice mogą być przystosowaniami do różnych warunków  środowiskowych lub strategii rozrodczych. \n"
   ]
  },
  {
   "cell_type": "markdown",
   "metadata": {},
   "source": []
  },
  {
   "cell_type": "code",
   "execution_count": null,
   "metadata": {},
   "outputs": [],
   "source": [
    "# Obliczneie średnich wartości dla poszczególych gatunków \n",
    "df2.groupby (\"gatunek\")[[\"dł_kielicha\", \"szer_kielicha\", \"dł_płatka\", \"szer_płatka\"]].mean() "
   ]
  },
  {
   "cell_type": "code",
   "execution_count": null,
   "metadata": {},
   "outputs": [],
   "source": [
    "# Utworzenie nowego df2mean ze średnimi wartościami dla poszczególnych gatunków Irysów\n",
    "df2mean = df2.groupby (\"gatunek\")[[\"dł_kielicha\", \"szer_kielicha\", \"dł_płatka\", \"szer_płatka\"]].mean() "
   ]
  },
  {
   "cell_type": "code",
   "execution_count": null,
   "metadata": {},
   "outputs": [],
   "source": [
    "import matplotlib.pyplot as plt\n",
    "import seaborn as sns\n",
    "from sklearn.tree import DecisionTreeClassifier\n",
    "\n",
    "# Przygotowanie danych do modelu\n",
    "X = df2[['dł_kielicha', 'szer_kielicha', 'dł_płatka', 'szer_płatka']]\n",
    "y = df2['gatunek']\n",
    "\n",
    "# Trening modelu drzewa decyzyjnego\n",
    "clf = DecisionTreeClassifier(random_state=42)\n",
    "clf.fit(X, y)\n",
    "\n",
    "# Ważność cech\n",
    "importances = clf.feature_importances_\n",
    "feature_names = X.columns\n",
    "plt.figure(figsize=(8,4))\n",
    "sns.barplot(x=importances, y=feature_names, palette='Set2')\n",
    "plt.title('Ważność cech w drzewie decyzyjnym', fontsize=16)\n",
    "plt.xlabel('Ważność', fontsize=14)\n",
    "plt.ylabel('Cecha', fontsize=14)\n",
    "plt.grid(axis='x', linestyle='--', alpha=0.7)\n",
    "plt.tight_layout()\n",
    "plt.show()"
   ]
  },
  {
   "cell_type": "code",
   "execution_count": null,
   "metadata": {},
   "outputs": [],
   "source": []
  },
  {
   "cell_type": "code",
   "execution_count": null,
   "metadata": {},
   "outputs": [],
   "source": [
    "df2mean.plot(kind=\"bar\") # Utworzenie wykresu słupkowego na podstawie średnich wartości"
   ]
  },
  {
   "cell_type": "markdown",
   "metadata": {},
   "source": [
    "## Z wykresu wynika, że:\n",
    "* Najmniejsze wymiary (zarówno kielichów, jak i płatków) występują u gatunku Iris-setosa. Charakteryzuje się on krótkimi i wąskimi elementami kwiatu.\n",
    "\n",
    "* Gatunek pośredni pod względem wymiarów to Iris-versicolor. Jego parametry są większe niż u Setosy, ale mniejsze niż u Virginiki.\n",
    "\n",
    "* Największe wymiary (zarówno długości, jak i szerokości) występują u gatunku Iris-Virginica. Ten gatunek wyróżnia się dużymi rozmiarami zarówno kielichów, jak i płatków."
   ]
  },
  {
   "cell_type": "markdown",
   "metadata": {},
   "source": [
    "**Wnioski cząstkowe:**\n",
    "- Różnice w wymiarach cech morfologicznych są wyraźne między gatunkami.\n",
    "- Te różnice mogą być kluczowe dla skutecznej klasyfikacji."
   ]
  },
  {
   "cell_type": "markdown",
   "metadata": {},
   "source": [
    "# 9. Analiza wartości odstających\n",
    "\n",
    "W analizie danych wartości odstające (ang. outliers) to obserwacje, które znacznie różnią się od pozostałych danych. Mogą one zniekształcać wyniki analizy statystycznej, dlatego ważne jest, aby je zidentyfikować i odpowiednio z nimi postąpić.\n",
    "\n",
    "## 9.1. Definicja wartości odstających\n",
    "\n",
    "Wartości odstające to dane, które leżą daleko od \"reszty\" danych w zbiorze. Mogą to być zarówno wartości skrajnie wysokie, jak i skrajnie niskie. Istnieje wiele metod statystycznych służących do identyfikacji wartości odstających, w tym:\n",
    "- Reguła Tukeya\n",
    "- Z-score\n",
    "- Metoda Mahalanobisa\n",
    "\n",
    "## 9.2. Przyczyny występowania wartości odstających\n",
    "\n",
    "Wartości odstające mogą występować z różnych powodów, w tym:\n",
    "- Błędy pomiarowe\n",
    "- Naturalne wahania w danych\n",
    "- Zjawiska rzadkie lub ekstremalne\n",
    "\n",
    "## 9.3. Jak radzić sobie z wartościami odstającymi\n",
    "\n",
    "Istnieje kilka podejść do radzenia sobie z wartościami odstającymi, w tym:\n",
    "- Usunięcie ich z analizy\n",
    "- Zastąpienie innymi wartościami (np. średnią lub medianą)\n",
    "- Użycie metod statystycznych odpornych na wartości odstające\n",
    "\n",
    "Wybór odpowiedniej metody zależy od kontekstu analizy oraz przyczyn występowania wartości odstających."
   ]
  },
  {
   "cell_type": "code",
   "execution_count": null,
   "metadata": {},
   "outputs": [],
   "source": [
    "import pandas as pd\n",
    "import seaborn as sns\n",
    "import matplotlib.pyplot as plt\n",
    "\n",
    "# Wygenerowanie boxplotów w odniesieniu do gatunku Irysa\n",
    "kolumny = ['dł_kielicha', 'szer_kielicha', 'dł_płatka', 'szer_płatka']\n",
    "for kolumna in kolumny:\n",
    "    plt.figure(figsize=(8,5))\n",
    "    sns.boxplot(x='gatunek', y=df2[kolumna], data=df2, palette='Set2')\n",
    "    plt.title(f'Boxplot dla {kolumna} w podziale na gatunki', fontsize=16)\n",
    "    plt.xlabel('Gatunek', fontsize=14)\n",
    "    plt.ylabel(kolumna, fontsize=14)\n",
    "    plt.grid(axis='y', linestyle='--', alpha=0.7)\n",
    "    plt.tight_layout()\n",
    "    plt.show()"
   ]
  },
  {
   "cell_type": "markdown",
   "metadata": {},
   "source": [
    "### Interpretacja boxplotów\n",
    "Boxploty pozwalają szybko zidentyfikować wartości odstające oraz porównać rozkład cech w obrębie poszczególnych gatunków. Widać, że Iris-setosa ma wyraźnie mniejsze wartości cech, a wartości odstające pojawiają się głównie w szerokości kielicha i płatka. Różnice między gatunkami są widoczne i potwierdzają ich odmienność morfologiczną."
   ]
  },
  {
   "cell_type": "code",
   "execution_count": null,
   "metadata": {},
   "outputs": [],
   "source": [
    "from scipy.stats import f_oneway\n",
    "import numpy as np\n",
    "\n",
    "# Test ANOVA dla każdej cechy morfologicznej\n",
    "print('Test ANOVA dla cech morfologicznych:')\n",
    "for col in ['dł_kielicha', 'szer_kielicha', 'dł_płatka', 'szer_płatka']:\n",
    "    setosa = df2[df2['gatunek'] == 'Iris-setosa'][col]\n",
    "    versicolor = df2[df2['gatunek'] == 'Iris-versicolor'][col]\n",
    "    virginica = df2[df2['gatunek'] == 'Iris-virginica'][col]\n",
    "    stat, p = f_oneway(setosa, versicolor, virginica)\n",
    "    print(f\"{col}: statystyka={stat:.2f}, p-value={p:.4f}\")\n",
    "    if p < 0.05:\n",
    "        print(\"  Istotna statystycznie różnica między gatunkami.\")\n",
    "    else:\n",
    "        print(\"  Brak istotnej różnicy.\")\n",
    "\n",
    "# Współczynnik zmienności (std/mean) dla cech w obrębie gatunków\n",
    "print('\\nWspółczynnik zmienności dla cech w obrębie gatunków:')\n",
    "for col in ['dł_kielicha', 'szer_kielicha', 'dł_płatka', 'szer_płatka']:\n",
    "    print(f\"\\nCecha: {col}\")\n",
    "    for species in df2['gatunek'].unique():\n",
    "        vals = df2[df2['gatunek'] == species][col]\n",
    "        cv = np.std(vals) / np.mean(vals)\n",
    "        print(f\"  {species}: CV = {cv:.3f}\")\n"
   ]
  },
  {
   "cell_type": "code",
   "execution_count": null,
   "metadata": {},
   "outputs": [],
   "source": [
    "from scipy.stats import zscore\n",
    "from sklearn.model_selection import train_test_split\n",
    "from sklearn.tree import DecisionTreeClassifier\n",
    "from sklearn.metrics import confusion_matrix, classification_report, accuracy_score\n",
    "import pandas as pd\n",
    "\n",
    "# Analiza wartości odstających - identyfikacja i wpływ\n",
    "# Oblicz z-score dla cech numerycznych\n",
    "z_scores = np.abs(zscore(df2[['dł_kielicha', 'szer_kielicha', 'dł_płatka', 'szer_płatka']]))\n",
    "outliers = (z_scores > 3).any(axis=1)\n",
    "print(f'Liczba rekordów odstających: {outliers.sum()}')\n",
    "print('Rekordy odstające:')\n",
    "display(df2[outliers])\n",
    "\n",
    "# Analiza bez wartości odstających\n",
    "print('Statystyki opisowe bez wartości odstających:')\n",
    "display(df2[~outliers].describe())\n",
    "\n",
    "# Prosty model klasyfikacyjny: Drzewo decyzyjne\n",
    "X = df2[['dł_kielicha', 'szer_kielicha', 'dł_płatka', 'szer_płatka']]\n",
    "y = df2['gatunek']\n",
    "\n",
    "X_train, X_test, y_train, y_test = train_test_split(X, y, test_size=0.3, random_state=42, stratify=y)\n",
    "clf = DecisionTreeClassifier(random_state=42)\n",
    "clf.fit(X_train, y_train)\n",
    "y_pred = clf.predict(X_test)\n",
    "\n",
    "print('Macierz pomyłek:')\n",
    "print(confusion_matrix(y_test, y_pred))\n",
    "print('\\nRaport klasyfikacji:')\n",
    "print(classification_report(y_test, y_pred))\n",
    "print(f'Dokładność: {accuracy_score(y_test, y_pred):.2f}')\n",
    "\n",
    "# Podsumowanie praktyczne\n",
    "print('''\\nWnioski praktyczne:\\n- Dane o irysach pozwalają na bardzo skuteczną klasyfikację gatunków na podstawie cech morfologicznych.\\n- Prosty model drzewa decyzyjnego osiąga wysoką dokładność, co potwierdza przydatność tego zbioru do nauki i testowania algorytmów ML.\\n- Analiza wartości odstających pozwala lepiej zrozumieć rozkład cech i ich wpływ na modelowanie.\\n- Notebook prezentuje pełny cykl EDA: od eksploracji, przez wizualizacje, testy statystyczne, po wstępne modelowanie i interpretację wyników.\\n''')\n",
    "\n",
    "# Estetyka i czytelność: ustawienia pandas\n",
    "pd.set_option('display.max_columns', 10)\n",
    "pd.set_option('display.precision', 3)\n"
   ]
  },
  {
   "cell_type": "code",
   "execution_count": null,
   "metadata": {},
   "outputs": [],
   "source": [
    "# Wizualizacja macierzy pomyłek jako heatmapy\n",
    "import seaborn as sns\n",
    "import matplotlib.pyplot as plt\n",
    "import numpy as np\n",
    "\n",
    "cm = confusion_matrix(y_test, y_pred, labels=clf.classes_)\n",
    "plt.figure(figsize=(6,5))\n",
    "sns.heatmap(cm, annot=True, fmt='d', cmap='Blues', xticklabels=clf.classes_, yticklabels=clf.classes_, cbar=False, annot_kws={\"size\":16})\n",
    "plt.xlabel('Predykcja', fontsize=14)\n",
    "plt.ylabel('Rzeczywista klasa', fontsize=14)\n",
    "plt.title('Macierz pomyłek (Decision Tree)', fontsize=16)\n",
    "plt.tight_layout()\n",
    "plt.show()"
   ]
  },
  {
   "cell_type": "code",
   "execution_count": null,
   "metadata": {},
   "outputs": [],
   "source": [
    "# Automatyczne usuwanie outlierów i porównanie wyników modelu\n",
    "from sklearn.metrics import accuracy_score\n",
    "\n",
    "# Dane bez outlierów\n",
    "X_no_out = df2[~outliers][['dł_kielicha', 'szer_kielicha', 'dł_płatka', 'szer_płatka']]\n",
    "y_no_out = df2[~outliers]['gatunek']\n",
    "\n",
    "X_train_no, X_test_no, y_train_no, y_test_no = train_test_split(X_no_out, y_no_out, test_size=0.3, random_state=42, stratify=y_no_out)\n",
    "clf_no_out = DecisionTreeClassifier(random_state=42)\n",
    "clf_no_out.fit(X_train_no, y_train_no)\n",
    "y_pred_no = clf_no_out.predict(X_test_no)\n",
    "\n",
    "print(f'Dokładność modelu na pełnych danych: {accuracy_score(y_test, y_pred):.2f}')\n",
    "print(f'Dokładność modelu po usunięciu outlierów: {accuracy_score(y_test_no, y_pred_no):.2f}')"
   ]
  },
  {
   "cell_type": "code",
   "execution_count": null,
   "metadata": {},
   "outputs": [],
   "source": [
    "from sklearn.neighbors import KNeighborsClassifier\n",
    "from sklearn.linear_model import LogisticRegression\n",
    "from sklearn.model_selection import cross_val_score\n",
    "models = {\n",
    "    'Drzewo decyzyjne': DecisionTreeClassifier(random_state=42),\n",
    "    'kNN': KNeighborsClassifier(),\n",
    "    'Regresja logistyczna': LogisticRegression(max_iter=200)\n",
    "}\n",
    "print('Porównanie modeli (walidacja krzyżowa, accuracy):')\n",
    "for name, model in models.items():\n",
    "    scores = cross_val_score(model, X, y, cv=5, scoring='accuracy')\n",
    "    print(f'{name}: średnia accuracy = {scores.mean():.2f} (+/- {scores.std():.2f})')"
   ]
  },
  {
   "cell_type": "code",
   "execution_count": null,
   "metadata": {},
   "outputs": [],
   "source": [
    "# Analiza PCA i t-SNE dla wizualizacji danych w 2D\n",
    "from sklearn.decomposition import PCA\n",
    "from sklearn.manifold import TSNE\n",
    "import matplotlib.pyplot as plt\n",
    "import seaborn as sns\n",
    "\n",
    "# PCA\n",
    "pca = PCA(n_components=2)\n",
    "pca_result = pca.fit_transform(df2[['dł_kielicha', 'szer_kielicha', 'dł_płatka', 'szer_płatka']])\n",
    "df2['PCA1'] = pca_result[:,0]\n",
    "df2['PCA2'] = pca_result[:,1]\n",
    "plt.figure(figsize=(8,6))\n",
    "sns.scatterplot(x='PCA1', y='PCA2', hue='gatunek', data=df2, palette='Set2', s=80, alpha=0.8)\n",
    "plt.title('PCA - wizualizacja danych w 2D', fontsize=16)\n",
    "plt.xlabel('PCA1', fontsize=14)\n",
    "plt.ylabel('PCA2', fontsize=14)\n",
    "plt.legend(title='Gatunek', fontsize=12)\n",
    "plt.grid(True, linestyle='--', alpha=0.6)\n",
    "plt.tight_layout()\n",
    "plt.show()\n",
    "\n",
    "# t-SNE\n",
    "tsne = TSNE(n_components=2, random_state=42, perplexity=30)\n",
    "tsne_result = tsne.fit_transform(df2[['dł_kielicha', 'szer_kielicha', 'dł_płatka', 'szer_płatka']])\n",
    "df2['TSNE1'] = tsne_result[:,0]\n",
    "df2['TSNE2'] = tsne_result[:,1]\n",
    "plt.figure(figsize=(8,6))\n",
    "sns.scatterplot(x='TSNE1', y='TSNE2', hue='gatunek', data=df2, palette='Set2', s=80, alpha=0.8)\n",
    "plt.title('t-SNE - wizualizacja danych w 2D', fontsize=16)\n",
    "plt.xlabel('TSNE1', fontsize=14)\n",
    "plt.ylabel('TSNE2', fontsize=14)\n",
    "plt.legend(title='Gatunek', fontsize=12)\n",
    "plt.grid(True, linestyle='--', alpha=0.6)\n",
    "plt.tight_layout()\n",
    "plt.show()"
   ]
  },
  {
   "cell_type": "markdown",
   "metadata": {},
   "source": [
    "# 10. Podsumowanie końcowe\n",
    "\n",
    "Analiza zbioru danych o irysach obejmuje 150 rekordów, po 50 dla każdego z trzech gatunków: Iris-setosa, Iris-versicolor i Iris-virginica. Dane są kompletne, bez brakujących wartości, a liczba duplikatów jest znikoma i nie wpływa na wyniki analizy.\n",
    "\n",
    "**Najważniejsze wnioski:**\n",
    "- Długość kielicha jest silnie skorelowana z długością i szerokością płatka, a szerokość kielicha wykazuje umiarkowaną, negatywną korelację z pozostałymi cechami.\n",
    "- Najsilniejsza zależność występuje między długością a szerokością płatka – ich wartości rosną lub maleją razem.\n",
    "- Iris-setosa wyróżnia się najmniejszymi wymiarami, Iris-virginica największymi, a Iris-versicolor zajmuje pozycję pośrednią.\n",
    "- Różnice morfologiczne mogą wynikać z adaptacji do środowiska i strategii rozwojowych.\n",
    "\n",
    "**Wnioski praktyczne:**\n",
    "- Cechy morfologiczne pozwalają na skuteczną klasyfikację gatunków, a proste modele osiągają wysoką skuteczność.\n",
    "- Zbiór danych o irysach jest doskonałym materiałem do nauki eksploracji danych, wizualizacji, testów statystycznych i budowy modeli klasyfikacyjnych.\n",
    "- Przeprowadzona analiza potwierdza, że ten zbiór idealnie nadaje się do prezentacji umiejętności analitycznych w portfolio."
   ]
  },
  {
   "cell_type": "markdown",
   "metadata": {},
   "source": [
    "# Checklist EDA – wykonane kroki\n",
    "\n",
    "- [x] Wprowadzenie i cel analizy\n",
    "- [x] Spis treści\n",
    "- [x] Źródło i wersja danych\n",
    "- [x] Ustawienie ziarna losowości\n",
    "- [x] Ilustracje badanych gatunków\n",
    "- [x] Wczytanie i wstępna eksploracja danych\n",
    "- [x] Sprawdzenie brakujących wartości i duplikatów\n",
    "- [x] Analiza pojedynczych zmiennych (histogramy, statystyki opisowe)\n",
    "- [x] Transformacja danych i tworzenie nowych cech\n",
    "- [x] Analiza relacji między zmiennymi (korelacje, wykresy punktowe)\n",
    "- [x] Analiza wartości odstających (boxploty, z-score, ANOVA)\n",
    "- [x] Automatyczne usuwanie duplikatów i outlierów\n",
    "- [x] Porównanie modeli klasyfikacyjnych (drzewo, kNN, regresja logistyczna)\n",
    "- [x] Wizualizacja danych w 2D (PCA, t-SNE)\n",
    "- [x] Podsumowanie końcowe\n",
    "\n",
    "> Checklistę możesz wykorzystać jako szybki przegląd wykonanych etapów lub inspirację do kolejnych analiz."
   ]
  }
 ],
 "metadata": {
  "kernelspec": {
   "display_name": "od_zera_do_ai",
   "language": "python",
   "name": "python3"
  },
  "language_info": {
   "codemirror_mode": {
    "name": "ipython",
    "version": 3
   },
   "file_extension": ".py",
   "mimetype": "text/x-python",
   "name": "python",
   "nbconvert_exporter": "python",
   "pygments_lexer": "ipython3",
   "version": "3.11.11"
  }
 },
 "nbformat": 4,
 "nbformat_minor": 4
}
